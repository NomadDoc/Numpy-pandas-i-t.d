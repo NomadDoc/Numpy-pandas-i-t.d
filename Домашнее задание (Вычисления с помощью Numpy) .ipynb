{
 "cells": [
  {
   "cell_type": "code",
   "execution_count": 7,
   "id": "6a22d838",
   "metadata": {},
   "outputs": [],
   "source": [
    "import numpy as np #Задание №1 "
   ]
  },
  {
   "cell_type": "code",
   "execution_count": 13,
   "id": "36493ae0",
   "metadata": {},
   "outputs": [],
   "source": [
    "a = np.array([[1, 6],\n",
    "              [2, 8],\n",
    "              [3, 11],\n",
    "              [3, 10],\n",
    "              [1, 7]])\n",
    "mean_a = a.mean(axis = 0)"
   ]
  },
  {
   "cell_type": "code",
   "execution_count": 14,
   "id": "aebfd7e5",
   "metadata": {},
   "outputs": [
    {
     "name": "stdout",
     "output_type": "stream",
     "text": [
      "[2.  8.4]\n"
     ]
    }
   ],
   "source": [
    "print(mean_a)"
   ]
  },
  {
   "cell_type": "code",
   "execution_count": 15,
   "id": "a5a54376",
   "metadata": {},
   "outputs": [
    {
     "name": "stdout",
     "output_type": "stream",
     "text": [
      "[[-1.  -2.4]\n",
      " [ 0.  -0.4]\n",
      " [ 1.   2.6]\n",
      " [ 1.   1.6]\n",
      " [-1.  -1.4]]\n"
     ]
    }
   ],
   "source": [
    "a_centered = a - mean_a #Задание №2 \n",
    "print(a_centered)"
   ]
  },
  {
   "cell_type": "code",
   "execution_count": 27,
   "id": "46409a16",
   "metadata": {},
   "outputs": [
    {
     "name": "stdout",
     "output_type": "stream",
     "text": [
      "[[-2.4]\n",
      " [-0.4]\n",
      " [ 2.6]\n",
      " [ 1.6]\n",
      " [-1.4]]\n"
     ]
    }
   ],
   "source": []
  },
  {
   "cell_type": "code",
   "execution_count": 28,
   "id": "7f8c7ee1",
   "metadata": {},
   "outputs": [
    {
     "name": "stdout",
     "output_type": "stream",
     "text": [
      "[[-1.]\n",
      " [ 0.]\n",
      " [ 1.]\n",
      " [ 1.]\n",
      " [-1.]]\n"
     ]
    }
   ],
   "source": []
  },
  {
   "cell_type": "code",
   "execution_count": null,
   "id": "2f2880e5",
   "metadata": {},
   "outputs": [],
   "source": []
  },
  {
   "cell_type": "code",
   "execution_count": 46,
   "id": "bb8a56c1",
   "metadata": {},
   "outputs": [
    {
     "name": "stdout",
     "output_type": "stream",
     "text": [
      "[[ 2.4]\n",
      " [-0. ]\n",
      " [ 2.6]\n",
      " [ 1.6]\n",
      " [ 1.4]]\n"
     ]
    }
   ],
   "source": [
    "a = a_centered[0:, 1:2]*a_centered[0: , :1] #Задание №3\n",
    "print(a)"
   ]
  },
  {
   "cell_type": "code",
   "execution_count": 48,
   "id": "2cb1f7e0",
   "metadata": {},
   "outputs": [
    {
     "name": "stdout",
     "output_type": "stream",
     "text": [
      "8.0\n"
     ]
    }
   ],
   "source": [
    "a_centered_sp = a.sum()\n",
    "print(a_centered_sp) #Скалярное произведение столбцов"
   ]
  },
  {
   "cell_type": "code",
   "execution_count": 51,
   "id": "c6571781",
   "metadata": {},
   "outputs": [
    {
     "name": "stdout",
     "output_type": "stream",
     "text": [
      "8.0\n"
     ]
    }
   ],
   "source": [
    "# количество наблюдений равно кол-ву строк, знач N(5)-1=4 "
   ]
  },
  {
   "cell_type": "code",
   "execution_count": null,
   "id": "8c6cbeb8",
   "metadata": {},
   "outputs": [],
   "source": [
    "# 8\\4 = 2 - деление a_centered_sp на число наблюдений N-1"
   ]
  }
 ],
 "metadata": {
  "kernelspec": {
   "display_name": "Python 3 (ipykernel)",
   "language": "python",
   "name": "python3"
  },
  "language_info": {
   "codemirror_mode": {
    "name": "ipython",
    "version": 3
   },
   "file_extension": ".py",
   "mimetype": "text/x-python",
   "name": "python",
   "nbconvert_exporter": "python",
   "pygments_lexer": "ipython3",
   "version": "3.9.12"
  }
 },
 "nbformat": 4,
 "nbformat_minor": 5
}
