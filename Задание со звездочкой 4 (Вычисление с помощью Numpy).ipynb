{
 "cells": [
  {
   "cell_type": "code",
   "execution_count": 1,
   "id": "9b39ac88",
   "metadata": {},
   "outputs": [],
   "source": [
    "import numpy as np #Задание №4"
   ]
  },
  {
   "cell_type": "code",
   "execution_count": 3,
   "id": "1dff18f8",
   "metadata": {},
   "outputs": [],
   "source": [
    "a = np.array([[1, 6],\n",
    "              [2, 8],\n",
    "              [3, 11],\n",
    "              [3, 10],\n",
    "              [1, 7]])"
   ]
  },
  {
   "cell_type": "code",
   "execution_count": 4,
   "id": "9b92ea47",
   "metadata": {},
   "outputs": [
    {
     "name": "stdout",
     "output_type": "stream",
     "text": [
      "[[ 1  2  3  3  1]\n",
      " [ 6  8 11 10  7]]\n"
     ]
    }
   ],
   "source": [
    "a_t = a.T\n",
    "print(a_t)"
   ]
  },
  {
   "cell_type": "code",
   "execution_count": 5,
   "id": "79bcd25d",
   "metadata": {},
   "outputs": [],
   "source": [
    "a_cov = np.cov(a_t)"
   ]
  },
  {
   "cell_type": "code",
   "execution_count": 6,
   "id": "b13d92f0",
   "metadata": {},
   "outputs": [
    {
     "name": "stdout",
     "output_type": "stream",
     "text": [
      "[[1.  2. ]\n",
      " [2.  4.3]]\n"
     ]
    }
   ],
   "source": [
    "print(a_cov)"
   ]
  },
  {
   "cell_type": "code",
   "execution_count": null,
   "id": "3988ab8d",
   "metadata": {},
   "outputs": [],
   "source": [
    "# Искомое значение ковариации 2"
   ]
  }
 ],
 "metadata": {
  "kernelspec": {
   "display_name": "Python 3 (ipykernel)",
   "language": "python",
   "name": "python3"
  },
  "language_info": {
   "codemirror_mode": {
    "name": "ipython",
    "version": 3
   },
   "file_extension": ".py",
   "mimetype": "text/x-python",
   "name": "python",
   "nbconvert_exporter": "python",
   "pygments_lexer": "ipython3",
   "version": "3.9.12"
  }
 },
 "nbformat": 4,
 "nbformat_minor": 5
}
